{
 "cells": [
  {
   "cell_type": "markdown",
   "metadata": {},
   "source": [
    "Applicant Name - Sagar Gurung\n",
    "Register number - 2347250\n",
    "Class - 5MCA B\n",
    "University - CHRIST University, Bangalore\n",
    "\n",
    "Akasa Air - Data Engineering - Intership task"
   ]
  },
  {
   "cell_type": "markdown",
   "metadata": {},
   "source": [
    "LOADING THE DATASET:\n",
    "\n",
    "First lets import the libraries and load the dataset"
   ]
  },
  {
   "cell_type": "code",
   "execution_count": 27,
   "metadata": {},
   "outputs": [
    {
     "data": {
      "text/html": [
       "<div>\n",
       "<style scoped>\n",
       "    .dataframe tbody tr th:only-of-type {\n",
       "        vertical-align: middle;\n",
       "    }\n",
       "\n",
       "    .dataframe tbody tr th {\n",
       "        vertical-align: top;\n",
       "    }\n",
       "\n",
       "    .dataframe thead th {\n",
       "        text-align: right;\n",
       "    }\n",
       "</style>\n",
       "<table border=\"1\" class=\"dataframe\">\n",
       "  <thead>\n",
       "    <tr style=\"text-align: right;\">\n",
       "      <th></th>\n",
       "      <th>FlightNumber</th>\n",
       "      <th>DepartureDate</th>\n",
       "      <th>DepartureTime</th>\n",
       "      <th>ArrivalDate</th>\n",
       "      <th>ArrivalTime</th>\n",
       "      <th>Airline</th>\n",
       "      <th>DelayMinutes</th>\n",
       "    </tr>\n",
       "  </thead>\n",
       "  <tbody>\n",
       "    <tr>\n",
       "      <th>0</th>\n",
       "      <td>AA1234</td>\n",
       "      <td>09/01/2023</td>\n",
       "      <td>8:30 AM</td>\n",
       "      <td>09/01/2023</td>\n",
       "      <td>10:45 AM</td>\n",
       "      <td>American Airlines</td>\n",
       "      <td>15.0</td>\n",
       "    </tr>\n",
       "    <tr>\n",
       "      <th>1</th>\n",
       "      <td>DL5678</td>\n",
       "      <td>09/01/2023</td>\n",
       "      <td>1:15 PM</td>\n",
       "      <td>09/01/2023</td>\n",
       "      <td>3:30 PM</td>\n",
       "      <td>Delta</td>\n",
       "      <td>5.0</td>\n",
       "    </tr>\n",
       "    <tr>\n",
       "      <th>2</th>\n",
       "      <td>UA9101</td>\n",
       "      <td>09/01/2023</td>\n",
       "      <td>5:00 PM</td>\n",
       "      <td>09/01/2023</td>\n",
       "      <td>7:15 PM</td>\n",
       "      <td>United Airlines</td>\n",
       "      <td>25.0</td>\n",
       "    </tr>\n",
       "    <tr>\n",
       "      <th>3</th>\n",
       "      <td>AA1234</td>\n",
       "      <td>09/01/2023</td>\n",
       "      <td>8:30 AM</td>\n",
       "      <td>09/01/2023</td>\n",
       "      <td>10:45 PM</td>\n",
       "      <td>American Airlines</td>\n",
       "      <td>30.0</td>\n",
       "    </tr>\n",
       "    <tr>\n",
       "      <th>4</th>\n",
       "      <td>DL5678</td>\n",
       "      <td>09/02/2023</td>\n",
       "      <td>2:00 PM</td>\n",
       "      <td>09/02/2023</td>\n",
       "      <td>4:10 PM</td>\n",
       "      <td>Delta</td>\n",
       "      <td>NaN</td>\n",
       "    </tr>\n",
       "  </tbody>\n",
       "</table>\n",
       "</div>"
      ],
      "text/plain": [
       "  FlightNumber DepartureDate DepartureTime ArrivalDate ArrivalTime  \\\n",
       "0       AA1234    09/01/2023       8:30 AM  09/01/2023    10:45 AM   \n",
       "1       DL5678    09/01/2023       1:15 PM  09/01/2023     3:30 PM   \n",
       "2       UA9101    09/01/2023       5:00 PM  09/01/2023     7:15 PM   \n",
       "3       AA1234    09/01/2023       8:30 AM  09/01/2023    10:45 PM   \n",
       "4       DL5678    09/02/2023       2:00 PM  09/02/2023     4:10 PM   \n",
       "\n",
       "             Airline  DelayMinutes  \n",
       "0  American Airlines          15.0  \n",
       "1              Delta           5.0  \n",
       "2    United Airlines          25.0  \n",
       "3  American Airlines          30.0  \n",
       "4              Delta           NaN  "
      ]
     },
     "execution_count": 27,
     "metadata": {},
     "output_type": "execute_result"
    }
   ],
   "source": [
    "#Importing the required libraries\n",
    "import pandas as pd\n",
    "from datetime import datetime\n",
    "\n",
    "#Loading the dataset\n",
    "df = pd.read_csv(\"aviation_data.csv\")\n",
    "\n",
    "#Viewing the Dataset\n",
    "df.head()"
   ]
  },
  {
   "cell_type": "markdown",
   "metadata": {},
   "source": [
    "1. DATASET ISSUES AND REQUIREMENTS\n",
    "\n",
    "a. Inconsistent Date and Time Formats:\n",
    "DepartureDate and ArrivalDate are in MM/DD/YYYY format.\n",
    "DepartureTime and ArrivalTime are in HH:MM AM/PM format.\n",
    "\n",
    "b. Missing Values: The DelayMinutes column contains NaN values that need to be handled.\n",
    "\n",
    "c. Duplicate Flight Entries: There are duplicate entries for some flights which may need to be addressed.\n",
    "\n",
    "d. Inconsistent Time Entries: The ArrivalTime for one entry is later than DepartureTime on the same day which might indicate a data error (e.g., AA1234 on 09/01/2023 with a departure at 08:30 AM and arrival at 10:45 PM)."
   ]
  },
  {
   "cell_type": "markdown",
   "metadata": {},
   "source": [
    "Focusing on each requirement and dealing with every issue"
   ]
  },
  {
   "cell_type": "markdown",
   "metadata": {},
   "source": [
    "2. DATA CLEANING:\n",
    "\n",
    "Identify and handle any missing or inconsistent values in the dataset"
   ]
  },
  {
   "cell_type": "code",
   "execution_count": 28,
   "metadata": {},
   "outputs": [],
   "source": [
    "#Handling inconsistent Date and Time formats by\n",
    "#Converting dates to a consistent date format (MM/DD/YYYY to YYYY-MM-DD)\n",
    "df['DepartureDate'] = pd.to_datetime(df['DepartureDate'], format='%m/%d/%Y')\n",
    "df['ArrivalDate'] = pd.to_datetime(df['ArrivalDate'], format='%m/%d/%Y')\n",
    "\n",
    "#Converting times to 24-hour format for consistency\n",
    "df['DepartureTime'] = pd.to_datetime(df['DepartureTime'], format='%I:%M %p').dt.time\n",
    "df['ArrivalTime'] = pd.to_datetime(df['ArrivalTime'], format='%I:%M %p').dt.time"
   ]
  },
  {
   "cell_type": "code",
   "execution_count": 34,
   "metadata": {},
   "outputs": [
    {
     "data": {
      "text/html": [
       "<div>\n",
       "<style scoped>\n",
       "    .dataframe tbody tr th:only-of-type {\n",
       "        vertical-align: middle;\n",
       "    }\n",
       "\n",
       "    .dataframe tbody tr th {\n",
       "        vertical-align: top;\n",
       "    }\n",
       "\n",
       "    .dataframe thead th {\n",
       "        text-align: right;\n",
       "    }\n",
       "</style>\n",
       "<table border=\"1\" class=\"dataframe\">\n",
       "  <thead>\n",
       "    <tr style=\"text-align: right;\">\n",
       "      <th></th>\n",
       "      <th>FlightNumber</th>\n",
       "      <th>DepartureDate</th>\n",
       "      <th>DepartureTime</th>\n",
       "      <th>ArrivalDate</th>\n",
       "      <th>ArrivalTime</th>\n",
       "      <th>Airline</th>\n",
       "      <th>DelayMinutes</th>\n",
       "      <th>DepartureDateTime</th>\n",
       "      <th>ArrivalDateTime</th>\n",
       "    </tr>\n",
       "  </thead>\n",
       "  <tbody>\n",
       "    <tr>\n",
       "      <th>0</th>\n",
       "      <td>AA1234</td>\n",
       "      <td>2023-09-01</td>\n",
       "      <td>08:30:00</td>\n",
       "      <td>2023-09-01</td>\n",
       "      <td>10:45:00</td>\n",
       "      <td>American Airlines</td>\n",
       "      <td>15.0</td>\n",
       "      <td>2023-09-01 08:30:00</td>\n",
       "      <td>2023-09-01 10:45:00</td>\n",
       "    </tr>\n",
       "    <tr>\n",
       "      <th>1</th>\n",
       "      <td>DL5678</td>\n",
       "      <td>2023-09-01</td>\n",
       "      <td>13:15:00</td>\n",
       "      <td>2023-09-01</td>\n",
       "      <td>15:30:00</td>\n",
       "      <td>Delta</td>\n",
       "      <td>5.0</td>\n",
       "      <td>2023-09-01 13:15:00</td>\n",
       "      <td>2023-09-01 15:30:00</td>\n",
       "    </tr>\n",
       "    <tr>\n",
       "      <th>2</th>\n",
       "      <td>UA9101</td>\n",
       "      <td>2023-09-01</td>\n",
       "      <td>17:00:00</td>\n",
       "      <td>2023-09-01</td>\n",
       "      <td>19:15:00</td>\n",
       "      <td>United Airlines</td>\n",
       "      <td>25.0</td>\n",
       "      <td>2023-09-01 17:00:00</td>\n",
       "      <td>2023-09-01 19:15:00</td>\n",
       "    </tr>\n",
       "    <tr>\n",
       "      <th>3</th>\n",
       "      <td>AA1234</td>\n",
       "      <td>2023-09-01</td>\n",
       "      <td>08:30:00</td>\n",
       "      <td>2023-09-01</td>\n",
       "      <td>22:45:00</td>\n",
       "      <td>American Airlines</td>\n",
       "      <td>30.0</td>\n",
       "      <td>2023-09-01 08:30:00</td>\n",
       "      <td>2023-09-01 22:45:00</td>\n",
       "    </tr>\n",
       "    <tr>\n",
       "      <th>4</th>\n",
       "      <td>DL5678</td>\n",
       "      <td>2023-09-02</td>\n",
       "      <td>14:00:00</td>\n",
       "      <td>2023-09-02</td>\n",
       "      <td>16:10:00</td>\n",
       "      <td>Delta</td>\n",
       "      <td>25.0</td>\n",
       "      <td>2023-09-02 14:00:00</td>\n",
       "      <td>2023-09-02 16:10:00</td>\n",
       "    </tr>\n",
       "  </tbody>\n",
       "</table>\n",
       "</div>"
      ],
      "text/plain": [
       "  FlightNumber DepartureDate DepartureTime ArrivalDate ArrivalTime  \\\n",
       "0       AA1234    2023-09-01      08:30:00  2023-09-01    10:45:00   \n",
       "1       DL5678    2023-09-01      13:15:00  2023-09-01    15:30:00   \n",
       "2       UA9101    2023-09-01      17:00:00  2023-09-01    19:15:00   \n",
       "3       AA1234    2023-09-01      08:30:00  2023-09-01    22:45:00   \n",
       "4       DL5678    2023-09-02      14:00:00  2023-09-02    16:10:00   \n",
       "\n",
       "             Airline  DelayMinutes   DepartureDateTime     ArrivalDateTime  \n",
       "0  American Airlines          15.0 2023-09-01 08:30:00 2023-09-01 10:45:00  \n",
       "1              Delta           5.0 2023-09-01 13:15:00 2023-09-01 15:30:00  \n",
       "2    United Airlines          25.0 2023-09-01 17:00:00 2023-09-01 19:15:00  \n",
       "3  American Airlines          30.0 2023-09-01 08:30:00 2023-09-01 22:45:00  \n",
       "4              Delta          25.0 2023-09-02 14:00:00 2023-09-02 16:10:00  "
      ]
     },
     "execution_count": 34,
     "metadata": {},
     "output_type": "execute_result"
    }
   ],
   "source": [
    "#Displaying the first few rows to show the converted Date time format from MM/DD/YYYY to YYYY-MM-DD\n",
    "df.head()"
   ]
  },
  {
   "cell_type": "markdown",
   "metadata": {},
   "source": [
    "Missing Values: The DelayMinutes column contains NaN values that need to be handled."
   ]
  },
  {
   "cell_type": "code",
   "execution_count": 35,
   "metadata": {},
   "outputs": [
    {
     "name": "stdout",
     "output_type": "stream",
     "text": [
      "   FlightNumber  DelayMinutes\n",
      "0        AA1234          15.0\n",
      "1        DL5678           5.0\n",
      "2        UA9101          25.0\n",
      "3        AA1234          30.0\n",
      "4        DL5678          25.0\n",
      "5        UA9101          20.0\n",
      "6        AA1234          60.0\n",
      "7        DL5678          10.0\n",
      "8        UA9101          25.0\n",
      "9        AA1234          15.0\n",
      "10       DL5678          25.0\n",
      "11       UA9101          45.0\n"
     ]
    },
    {
     "name": "stderr",
     "output_type": "stream",
     "text": [
      "C:\\Users\\DELL\\AppData\\Local\\Temp\\ipykernel_2568\\4028055690.py:9: FutureWarning: A value is trying to be set on a copy of a DataFrame or Series through chained assignment using an inplace method.\n",
      "The behavior will change in pandas 3.0. This inplace method will never work because the intermediate object on which we are setting values always behaves as a copy.\n",
      "\n",
      "For example, when doing 'df[col].method(value, inplace=True)', try using 'df.method({col: value}, inplace=True)' or df[col] = df[col].method(value) instead, to perform the operation inplace on the original object.\n",
      "\n",
      "\n",
      "  df['DelayMinutes'].fillna(mean_delay, inplace=True)\n"
     ]
    }
   ],
   "source": [
    "#Converting the 'DelayMinutes' column to numeric\n",
    "#This will force invalid values to NaN\n",
    "df['DelayMinutes'] = pd.to_numeric(df['DelayMinutes'], errors='coerce')\n",
    "\n",
    "#Calculating the mean of 'DelayMinutes', ignoring NaN values\n",
    "mean_delay = df['DelayMinutes'].mean()\n",
    "\n",
    "#Filling NaN values in the 'DelayMinutes' column with the calculated mean\n",
    "df['DelayMinutes'].fillna(mean_delay, inplace=True)\n",
    "\n",
    "#Verifying if NaN values have been filled\n",
    "print(df[['FlightNumber', 'DelayMinutes']])"
   ]
  },
  {
   "cell_type": "markdown",
   "metadata": {},
   "source": [
    "Duplicate Flight Entries: There are duplicate entries for some flights which may need to be addressed."
   ]
  },
  {
   "cell_type": "code",
   "execution_count": 36,
   "metadata": {},
   "outputs": [
    {
     "name": "stdout",
     "output_type": "stream",
     "text": [
      "Number of duplicate rows remaining: 0\n"
     ]
    }
   ],
   "source": [
    "#Removing Duplicate Flight Entries\n",
    "#Dropping duplicate rows based on all columns\n",
    "df.drop_duplicates(keep='first', inplace=True)\n",
    "\n",
    "#Verifying if duplicates were removed\n",
    "duplicate_count = df.duplicated().sum()\n",
    "print(f\"Number of duplicate rows remaining: {duplicate_count}\")"
   ]
  },
  {
   "cell_type": "markdown",
   "metadata": {},
   "source": [
    "Inconsistent Time Entries: The ArrivalTime for one entry is later than DepartureTime on the same day which might indicate a data error (e.g., AA1234 on 09/01/2023 with a departure at 08:30 AM and arrival at 10:45 PM)."
   ]
  },
  {
   "cell_type": "code",
   "execution_count": 37,
   "metadata": {},
   "outputs": [
    {
     "data": {
      "text/html": [
       "<div>\n",
       "<style scoped>\n",
       "    .dataframe tbody tr th:only-of-type {\n",
       "        vertical-align: middle;\n",
       "    }\n",
       "\n",
       "    .dataframe tbody tr th {\n",
       "        vertical-align: top;\n",
       "    }\n",
       "\n",
       "    .dataframe thead th {\n",
       "        text-align: right;\n",
       "    }\n",
       "</style>\n",
       "<table border=\"1\" class=\"dataframe\">\n",
       "  <thead>\n",
       "    <tr style=\"text-align: right;\">\n",
       "      <th></th>\n",
       "      <th>FlightNumber</th>\n",
       "      <th>DepartureDate</th>\n",
       "      <th>DepartureTime</th>\n",
       "      <th>ArrivalDate</th>\n",
       "      <th>ArrivalTime</th>\n",
       "      <th>Airline</th>\n",
       "      <th>DelayMinutes</th>\n",
       "      <th>DepartureDateTime</th>\n",
       "      <th>ArrivalDateTime</th>\n",
       "    </tr>\n",
       "  </thead>\n",
       "  <tbody>\n",
       "  </tbody>\n",
       "</table>\n",
       "</div>"
      ],
      "text/plain": [
       "Empty DataFrame\n",
       "Columns: [FlightNumber, DepartureDate, DepartureTime, ArrivalDate, ArrivalTime, Airline, DelayMinutes, DepartureDateTime, ArrivalDateTime]\n",
       "Index: []"
      ]
     },
     "execution_count": 37,
     "metadata": {},
     "output_type": "execute_result"
    }
   ],
   "source": [
    "#Correcting inconsistent time entries\n",
    "#Ensuring arrival time is later than Departure Time\n",
    "\n",
    "#Combining DepartureDate and DepartureTime into a single DateTime column\n",
    "df['DepartureDateTime'] = pd.to_datetime(df['DepartureDate'].astype(str) + ' ' + df['DepartureTime'].astype(str))\n",
    "\n",
    "#Combine ArrivalDate and ArrivalTime into a single DateTime column\n",
    "df['ArrivalDateTime'] = pd.to_datetime(df['ArrivalDate'].astype(str) + ' ' + df['ArrivalTime'].astype(str))\n",
    "\n",
    "#Check for inconsistencies where ArrivalDateTime is earlier than DepartureDateTime\n",
    "inconsistent_times = df[df['ArrivalDateTime'] <= df['DepartureDateTime']]\n",
    "\n",
    "#Displaying the inconsistent entries, if there are any\n",
    "inconsistent_times"
   ]
  },
  {
   "cell_type": "markdown",
   "metadata": {},
   "source": [
    "No inconsistencies detected"
   ]
  },
  {
   "cell_type": "markdown",
   "metadata": {},
   "source": [
    "DATA CLEANING:\n",
    "\n",
    "Ensure all column data types are appropriate (e.g., dates as date types, times as time types)."
   ]
  },
  {
   "cell_type": "code",
   "execution_count": 38,
   "metadata": {},
   "outputs": [
    {
     "name": "stdout",
     "output_type": "stream",
     "text": [
      "<class 'pandas.core.frame.DataFrame'>\n",
      "RangeIndex: 12 entries, 0 to 11\n",
      "Data columns (total 9 columns):\n",
      " #   Column             Non-Null Count  Dtype         \n",
      "---  ------             --------------  -----         \n",
      " 0   FlightNumber       12 non-null     object        \n",
      " 1   DepartureDate      12 non-null     datetime64[ns]\n",
      " 2   DepartureTime      12 non-null     object        \n",
      " 3   ArrivalDate        12 non-null     datetime64[ns]\n",
      " 4   ArrivalTime        12 non-null     object        \n",
      " 5   Airline            12 non-null     object        \n",
      " 6   DelayMinutes       12 non-null     float64       \n",
      " 7   DepartureDateTime  12 non-null     datetime64[ns]\n",
      " 8   ArrivalDateTime    12 non-null     datetime64[ns]\n",
      "dtypes: datetime64[ns](4), float64(1), object(4)\n",
      "memory usage: 996.0+ bytes\n"
     ]
    },
    {
     "data": {
      "text/html": [
       "<div>\n",
       "<style scoped>\n",
       "    .dataframe tbody tr th:only-of-type {\n",
       "        vertical-align: middle;\n",
       "    }\n",
       "\n",
       "    .dataframe tbody tr th {\n",
       "        vertical-align: top;\n",
       "    }\n",
       "\n",
       "    .dataframe thead th {\n",
       "        text-align: right;\n",
       "    }\n",
       "</style>\n",
       "<table border=\"1\" class=\"dataframe\">\n",
       "  <thead>\n",
       "    <tr style=\"text-align: right;\">\n",
       "      <th></th>\n",
       "      <th>FlightNumber</th>\n",
       "      <th>DepartureDate</th>\n",
       "      <th>DepartureTime</th>\n",
       "      <th>ArrivalDate</th>\n",
       "      <th>ArrivalTime</th>\n",
       "      <th>Airline</th>\n",
       "      <th>DelayMinutes</th>\n",
       "      <th>DepartureDateTime</th>\n",
       "      <th>ArrivalDateTime</th>\n",
       "    </tr>\n",
       "  </thead>\n",
       "  <tbody>\n",
       "    <tr>\n",
       "      <th>0</th>\n",
       "      <td>AA1234</td>\n",
       "      <td>2023-09-01</td>\n",
       "      <td>08:30:00</td>\n",
       "      <td>2023-09-01</td>\n",
       "      <td>10:45:00</td>\n",
       "      <td>American Airlines</td>\n",
       "      <td>15.0</td>\n",
       "      <td>2023-09-01 08:30:00</td>\n",
       "      <td>2023-09-01 10:45:00</td>\n",
       "    </tr>\n",
       "    <tr>\n",
       "      <th>1</th>\n",
       "      <td>DL5678</td>\n",
       "      <td>2023-09-01</td>\n",
       "      <td>13:15:00</td>\n",
       "      <td>2023-09-01</td>\n",
       "      <td>15:30:00</td>\n",
       "      <td>Delta</td>\n",
       "      <td>5.0</td>\n",
       "      <td>2023-09-01 13:15:00</td>\n",
       "      <td>2023-09-01 15:30:00</td>\n",
       "    </tr>\n",
       "    <tr>\n",
       "      <th>2</th>\n",
       "      <td>UA9101</td>\n",
       "      <td>2023-09-01</td>\n",
       "      <td>17:00:00</td>\n",
       "      <td>2023-09-01</td>\n",
       "      <td>19:15:00</td>\n",
       "      <td>United Airlines</td>\n",
       "      <td>25.0</td>\n",
       "      <td>2023-09-01 17:00:00</td>\n",
       "      <td>2023-09-01 19:15:00</td>\n",
       "    </tr>\n",
       "    <tr>\n",
       "      <th>3</th>\n",
       "      <td>AA1234</td>\n",
       "      <td>2023-09-01</td>\n",
       "      <td>08:30:00</td>\n",
       "      <td>2023-09-01</td>\n",
       "      <td>22:45:00</td>\n",
       "      <td>American Airlines</td>\n",
       "      <td>30.0</td>\n",
       "      <td>2023-09-01 08:30:00</td>\n",
       "      <td>2023-09-01 22:45:00</td>\n",
       "    </tr>\n",
       "    <tr>\n",
       "      <th>4</th>\n",
       "      <td>DL5678</td>\n",
       "      <td>2023-09-02</td>\n",
       "      <td>14:00:00</td>\n",
       "      <td>2023-09-02</td>\n",
       "      <td>16:10:00</td>\n",
       "      <td>Delta</td>\n",
       "      <td>25.0</td>\n",
       "      <td>2023-09-02 14:00:00</td>\n",
       "      <td>2023-09-02 16:10:00</td>\n",
       "    </tr>\n",
       "  </tbody>\n",
       "</table>\n",
       "</div>"
      ],
      "text/plain": [
       "  FlightNumber DepartureDate DepartureTime ArrivalDate ArrivalTime  \\\n",
       "0       AA1234    2023-09-01      08:30:00  2023-09-01    10:45:00   \n",
       "1       DL5678    2023-09-01      13:15:00  2023-09-01    15:30:00   \n",
       "2       UA9101    2023-09-01      17:00:00  2023-09-01    19:15:00   \n",
       "3       AA1234    2023-09-01      08:30:00  2023-09-01    22:45:00   \n",
       "4       DL5678    2023-09-02      14:00:00  2023-09-02    16:10:00   \n",
       "\n",
       "             Airline  DelayMinutes   DepartureDateTime     ArrivalDateTime  \n",
       "0  American Airlines          15.0 2023-09-01 08:30:00 2023-09-01 10:45:00  \n",
       "1              Delta           5.0 2023-09-01 13:15:00 2023-09-01 15:30:00  \n",
       "2    United Airlines          25.0 2023-09-01 17:00:00 2023-09-01 19:15:00  \n",
       "3  American Airlines          30.0 2023-09-01 08:30:00 2023-09-01 22:45:00  \n",
       "4              Delta          25.0 2023-09-02 14:00:00 2023-09-02 16:10:00  "
      ]
     },
     "execution_count": 38,
     "metadata": {},
     "output_type": "execute_result"
    }
   ],
   "source": [
    "#Checking and viewing whether all date and time columns are correctly formatted\n",
    "df.info()\n",
    "df.head()"
   ]
  },
  {
   "cell_type": "markdown",
   "metadata": {},
   "source": [
    "Correct any inconsistencies or errors in times (e.g., arrival time should be later than departure time)."
   ]
  },
  {
   "cell_type": "code",
   "execution_count": 39,
   "metadata": {},
   "outputs": [
    {
     "name": "stdout",
     "output_type": "stream",
     "text": [
      "   DepartureTime ArrivalTime\n",
      "0       08:30:00    10:45:00\n",
      "1       13:15:00    15:30:00\n",
      "2       17:00:00    19:15:00\n",
      "3       08:30:00    22:45:00\n",
      "4       14:00:00    16:10:00\n",
      "5       17:00:00    19:15:00\n",
      "6       20:30:00    10:45:00\n",
      "7       13:00:00    15:30:00\n",
      "8       15:00:00    17:20:00\n",
      "9       08:30:00    10:00:00\n",
      "10      12:30:00    14:40:00\n",
      "11      19:00:00    21:15:00\n"
     ]
    }
   ],
   "source": [
    "#Showing the arrival time and departure time\n",
    "print(df[['DepartureTime', 'ArrivalTime']])"
   ]
  },
  {
   "cell_type": "markdown",
   "metadata": {},
   "source": [
    "For the flight no. AA1234, 09/02/2023, 8:30 PM, 09/03/2023, 10:45 AM, American Airlines, 60\n",
    "\n",
    "The arrival time doesnt seem to be later than the departure time as it is the next day's time."
   ]
  },
  {
   "cell_type": "markdown",
   "metadata": {},
   "source": [
    "3. DATA NORMALIZATION:\n",
    "\n",
    "a. Convert DepartureDate and ArrivalDate columns to a standard YYYY-MM-DD format.\n",
    "b. Convert DepartureTime and ArrivalTime columns to a 24-hour time format (e.g., \"08:30\" for 8:30 AM).\n",
    "c. Create a new column for FlightDuration by calculating the difference between DepartureTime and ArrivalTime on the same day."
   ]
  },
  {
   "cell_type": "code",
   "execution_count": 40,
   "metadata": {},
   "outputs": [],
   "source": [
    "#A. Converting DepartureDate and ArrivalDate to YYYY-MM-DD format\n",
    "df['DepartureDate'] = df['DepartureDate'].dt.strftime('%Y-%m-%d')\n",
    "df['ArrivalDate'] = df['ArrivalDate'].dt.strftime('%Y-%m-%d')"
   ]
  },
  {
   "cell_type": "code",
   "execution_count": 43,
   "metadata": {},
   "outputs": [
    {
     "data": {
      "text/html": [
       "<div>\n",
       "<style scoped>\n",
       "    .dataframe tbody tr th:only-of-type {\n",
       "        vertical-align: middle;\n",
       "    }\n",
       "\n",
       "    .dataframe tbody tr th {\n",
       "        vertical-align: top;\n",
       "    }\n",
       "\n",
       "    .dataframe thead th {\n",
       "        text-align: right;\n",
       "    }\n",
       "</style>\n",
       "<table border=\"1\" class=\"dataframe\">\n",
       "  <thead>\n",
       "    <tr style=\"text-align: right;\">\n",
       "      <th></th>\n",
       "      <th>DepartureDate</th>\n",
       "      <th>ArrivalDate</th>\n",
       "    </tr>\n",
       "  </thead>\n",
       "  <tbody>\n",
       "    <tr>\n",
       "      <th>0</th>\n",
       "      <td>2023-09-01</td>\n",
       "      <td>2023-09-01</td>\n",
       "    </tr>\n",
       "    <tr>\n",
       "      <th>1</th>\n",
       "      <td>2023-09-01</td>\n",
       "      <td>2023-09-01</td>\n",
       "    </tr>\n",
       "    <tr>\n",
       "      <th>2</th>\n",
       "      <td>2023-09-01</td>\n",
       "      <td>2023-09-01</td>\n",
       "    </tr>\n",
       "    <tr>\n",
       "      <th>3</th>\n",
       "      <td>2023-09-01</td>\n",
       "      <td>2023-09-01</td>\n",
       "    </tr>\n",
       "    <tr>\n",
       "      <th>4</th>\n",
       "      <td>2023-09-02</td>\n",
       "      <td>2023-09-02</td>\n",
       "    </tr>\n",
       "    <tr>\n",
       "      <th>5</th>\n",
       "      <td>2023-09-02</td>\n",
       "      <td>2023-09-02</td>\n",
       "    </tr>\n",
       "    <tr>\n",
       "      <th>6</th>\n",
       "      <td>2023-09-02</td>\n",
       "      <td>2023-09-03</td>\n",
       "    </tr>\n",
       "    <tr>\n",
       "      <th>7</th>\n",
       "      <td>2023-09-03</td>\n",
       "      <td>2023-09-03</td>\n",
       "    </tr>\n",
       "    <tr>\n",
       "      <th>8</th>\n",
       "      <td>2023-09-03</td>\n",
       "      <td>2023-09-03</td>\n",
       "    </tr>\n",
       "    <tr>\n",
       "      <th>9</th>\n",
       "      <td>2023-09-03</td>\n",
       "      <td>2023-09-03</td>\n",
       "    </tr>\n",
       "    <tr>\n",
       "      <th>10</th>\n",
       "      <td>2023-09-04</td>\n",
       "      <td>2023-09-04</td>\n",
       "    </tr>\n",
       "    <tr>\n",
       "      <th>11</th>\n",
       "      <td>2023-09-04</td>\n",
       "      <td>2023-09-04</td>\n",
       "    </tr>\n",
       "  </tbody>\n",
       "</table>\n",
       "</div>"
      ],
      "text/plain": [
       "   DepartureDate ArrivalDate\n",
       "0     2023-09-01  2023-09-01\n",
       "1     2023-09-01  2023-09-01\n",
       "2     2023-09-01  2023-09-01\n",
       "3     2023-09-01  2023-09-01\n",
       "4     2023-09-02  2023-09-02\n",
       "5     2023-09-02  2023-09-02\n",
       "6     2023-09-02  2023-09-03\n",
       "7     2023-09-03  2023-09-03\n",
       "8     2023-09-03  2023-09-03\n",
       "9     2023-09-03  2023-09-03\n",
       "10    2023-09-04  2023-09-04\n",
       "11    2023-09-04  2023-09-04"
      ]
     },
     "execution_count": 43,
     "metadata": {},
     "output_type": "execute_result"
    }
   ],
   "source": [
    "#Displaying the Departure and Arrival dates\n",
    "df[['DepartureDate', 'ArrivalDate']]"
   ]
  },
  {
   "cell_type": "code",
   "execution_count": 44,
   "metadata": {},
   "outputs": [
    {
     "data": {
      "text/html": [
       "<div>\n",
       "<style scoped>\n",
       "    .dataframe tbody tr th:only-of-type {\n",
       "        vertical-align: middle;\n",
       "    }\n",
       "\n",
       "    .dataframe tbody tr th {\n",
       "        vertical-align: top;\n",
       "    }\n",
       "\n",
       "    .dataframe thead th {\n",
       "        text-align: right;\n",
       "    }\n",
       "</style>\n",
       "<table border=\"1\" class=\"dataframe\">\n",
       "  <thead>\n",
       "    <tr style=\"text-align: right;\">\n",
       "      <th></th>\n",
       "      <th>DepartureTime</th>\n",
       "      <th>ArrivalTime</th>\n",
       "    </tr>\n",
       "  </thead>\n",
       "  <tbody>\n",
       "    <tr>\n",
       "      <th>0</th>\n",
       "      <td>08:30:00</td>\n",
       "      <td>10:45:00</td>\n",
       "    </tr>\n",
       "    <tr>\n",
       "      <th>1</th>\n",
       "      <td>13:15:00</td>\n",
       "      <td>15:30:00</td>\n",
       "    </tr>\n",
       "    <tr>\n",
       "      <th>2</th>\n",
       "      <td>17:00:00</td>\n",
       "      <td>19:15:00</td>\n",
       "    </tr>\n",
       "    <tr>\n",
       "      <th>3</th>\n",
       "      <td>08:30:00</td>\n",
       "      <td>22:45:00</td>\n",
       "    </tr>\n",
       "    <tr>\n",
       "      <th>4</th>\n",
       "      <td>14:00:00</td>\n",
       "      <td>16:10:00</td>\n",
       "    </tr>\n",
       "    <tr>\n",
       "      <th>5</th>\n",
       "      <td>17:00:00</td>\n",
       "      <td>19:15:00</td>\n",
       "    </tr>\n",
       "    <tr>\n",
       "      <th>6</th>\n",
       "      <td>20:30:00</td>\n",
       "      <td>10:45:00</td>\n",
       "    </tr>\n",
       "    <tr>\n",
       "      <th>7</th>\n",
       "      <td>13:00:00</td>\n",
       "      <td>15:30:00</td>\n",
       "    </tr>\n",
       "    <tr>\n",
       "      <th>8</th>\n",
       "      <td>15:00:00</td>\n",
       "      <td>17:20:00</td>\n",
       "    </tr>\n",
       "    <tr>\n",
       "      <th>9</th>\n",
       "      <td>08:30:00</td>\n",
       "      <td>10:00:00</td>\n",
       "    </tr>\n",
       "    <tr>\n",
       "      <th>10</th>\n",
       "      <td>12:30:00</td>\n",
       "      <td>14:40:00</td>\n",
       "    </tr>\n",
       "    <tr>\n",
       "      <th>11</th>\n",
       "      <td>19:00:00</td>\n",
       "      <td>21:15:00</td>\n",
       "    </tr>\n",
       "  </tbody>\n",
       "</table>\n",
       "</div>"
      ],
      "text/plain": [
       "   DepartureTime ArrivalTime\n",
       "0       08:30:00    10:45:00\n",
       "1       13:15:00    15:30:00\n",
       "2       17:00:00    19:15:00\n",
       "3       08:30:00    22:45:00\n",
       "4       14:00:00    16:10:00\n",
       "5       17:00:00    19:15:00\n",
       "6       20:30:00    10:45:00\n",
       "7       13:00:00    15:30:00\n",
       "8       15:00:00    17:20:00\n",
       "9       08:30:00    10:00:00\n",
       "10      12:30:00    14:40:00\n",
       "11      19:00:00    21:15:00"
      ]
     },
     "execution_count": 44,
     "metadata": {},
     "output_type": "execute_result"
    }
   ],
   "source": [
    "#B. Converting DepartureTime and ArrivalTime to 24-hour format\n",
    "df[['DepartureTime', 'ArrivalTime']]"
   ]
  },
  {
   "cell_type": "markdown",
   "metadata": {},
   "source": [
    "I had already converted the time formats to 24hr format in the previous tasks, so no changes required."
   ]
  },
  {
   "cell_type": "code",
   "execution_count": 45,
   "metadata": {},
   "outputs": [
    {
     "data": {
      "text/html": [
       "<div>\n",
       "<style scoped>\n",
       "    .dataframe tbody tr th:only-of-type {\n",
       "        vertical-align: middle;\n",
       "    }\n",
       "\n",
       "    .dataframe tbody tr th {\n",
       "        vertical-align: top;\n",
       "    }\n",
       "\n",
       "    .dataframe thead th {\n",
       "        text-align: right;\n",
       "    }\n",
       "</style>\n",
       "<table border=\"1\" class=\"dataframe\">\n",
       "  <thead>\n",
       "    <tr style=\"text-align: right;\">\n",
       "      <th></th>\n",
       "      <th>FlightNumber</th>\n",
       "      <th>DepartureDate</th>\n",
       "      <th>DepartureTime</th>\n",
       "      <th>ArrivalDate</th>\n",
       "      <th>ArrivalTime</th>\n",
       "      <th>Airline</th>\n",
       "      <th>DelayMinutes</th>\n",
       "      <th>DepartureDateTime</th>\n",
       "      <th>ArrivalDateTime</th>\n",
       "      <th>FlightDuration</th>\n",
       "    </tr>\n",
       "  </thead>\n",
       "  <tbody>\n",
       "    <tr>\n",
       "      <th>0</th>\n",
       "      <td>AA1234</td>\n",
       "      <td>2023-09-01</td>\n",
       "      <td>08:30:00</td>\n",
       "      <td>2023-09-01</td>\n",
       "      <td>10:45:00</td>\n",
       "      <td>American Airlines</td>\n",
       "      <td>15.0</td>\n",
       "      <td>2023-09-01 08:30:00</td>\n",
       "      <td>2023-09-01 10:45:00</td>\n",
       "      <td>0 days 02:15:00</td>\n",
       "    </tr>\n",
       "    <tr>\n",
       "      <th>1</th>\n",
       "      <td>DL5678</td>\n",
       "      <td>2023-09-01</td>\n",
       "      <td>13:15:00</td>\n",
       "      <td>2023-09-01</td>\n",
       "      <td>15:30:00</td>\n",
       "      <td>Delta</td>\n",
       "      <td>5.0</td>\n",
       "      <td>2023-09-01 13:15:00</td>\n",
       "      <td>2023-09-01 15:30:00</td>\n",
       "      <td>0 days 02:15:00</td>\n",
       "    </tr>\n",
       "    <tr>\n",
       "      <th>2</th>\n",
       "      <td>UA9101</td>\n",
       "      <td>2023-09-01</td>\n",
       "      <td>17:00:00</td>\n",
       "      <td>2023-09-01</td>\n",
       "      <td>19:15:00</td>\n",
       "      <td>United Airlines</td>\n",
       "      <td>25.0</td>\n",
       "      <td>2023-09-01 17:00:00</td>\n",
       "      <td>2023-09-01 19:15:00</td>\n",
       "      <td>0 days 02:15:00</td>\n",
       "    </tr>\n",
       "    <tr>\n",
       "      <th>3</th>\n",
       "      <td>AA1234</td>\n",
       "      <td>2023-09-01</td>\n",
       "      <td>08:30:00</td>\n",
       "      <td>2023-09-01</td>\n",
       "      <td>22:45:00</td>\n",
       "      <td>American Airlines</td>\n",
       "      <td>30.0</td>\n",
       "      <td>2023-09-01 08:30:00</td>\n",
       "      <td>2023-09-01 22:45:00</td>\n",
       "      <td>0 days 14:15:00</td>\n",
       "    </tr>\n",
       "    <tr>\n",
       "      <th>4</th>\n",
       "      <td>DL5678</td>\n",
       "      <td>2023-09-02</td>\n",
       "      <td>14:00:00</td>\n",
       "      <td>2023-09-02</td>\n",
       "      <td>16:10:00</td>\n",
       "      <td>Delta</td>\n",
       "      <td>25.0</td>\n",
       "      <td>2023-09-02 14:00:00</td>\n",
       "      <td>2023-09-02 16:10:00</td>\n",
       "      <td>0 days 02:10:00</td>\n",
       "    </tr>\n",
       "  </tbody>\n",
       "</table>\n",
       "</div>"
      ],
      "text/plain": [
       "  FlightNumber DepartureDate DepartureTime ArrivalDate ArrivalTime  \\\n",
       "0       AA1234    2023-09-01      08:30:00  2023-09-01    10:45:00   \n",
       "1       DL5678    2023-09-01      13:15:00  2023-09-01    15:30:00   \n",
       "2       UA9101    2023-09-01      17:00:00  2023-09-01    19:15:00   \n",
       "3       AA1234    2023-09-01      08:30:00  2023-09-01    22:45:00   \n",
       "4       DL5678    2023-09-02      14:00:00  2023-09-02    16:10:00   \n",
       "\n",
       "             Airline  DelayMinutes   DepartureDateTime     ArrivalDateTime  \\\n",
       "0  American Airlines          15.0 2023-09-01 08:30:00 2023-09-01 10:45:00   \n",
       "1              Delta           5.0 2023-09-01 13:15:00 2023-09-01 15:30:00   \n",
       "2    United Airlines          25.0 2023-09-01 17:00:00 2023-09-01 19:15:00   \n",
       "3  American Airlines          30.0 2023-09-01 08:30:00 2023-09-01 22:45:00   \n",
       "4              Delta          25.0 2023-09-02 14:00:00 2023-09-02 16:10:00   \n",
       "\n",
       "   FlightDuration  \n",
       "0 0 days 02:15:00  \n",
       "1 0 days 02:15:00  \n",
       "2 0 days 02:15:00  \n",
       "3 0 days 14:15:00  \n",
       "4 0 days 02:10:00  "
      ]
     },
     "execution_count": 45,
     "metadata": {},
     "output_type": "execute_result"
    }
   ],
   "source": [
    "#C. Create a new column for FlightDuration by calculating the difference between DepartureTime and ArrivalTime on the same day.\n",
    "\n",
    "#Creating a new column for FlightDuration\n",
    "df['FlightDuration'] = df['ArrivalDateTime'] - df['DepartureDateTime']\n",
    "df.head()"
   ]
  },
  {
   "cell_type": "markdown",
   "metadata": {},
   "source": [
    "DATA ANALYSIS:\n",
    "\n",
    "a. Analyze the distribution of delays and identify any trends or patterns.\n",
    "b. Calculate the average delay for each airline.\n",
    "c. Identify any relationships between flight delays and departure times (e.g., are flights departing later in the day more likely to be delayed?).\n",
    "d. Determine if there is a significant difference in delays between different airlines."
   ]
  },
  {
   "cell_type": "markdown",
   "metadata": {},
   "source": [
    "A. Analyzing the distribution of delays and identifying any trends or patterns."
   ]
  },
  {
   "cell_type": "code",
   "execution_count": 46,
   "metadata": {},
   "outputs": [
    {
     "name": "stderr",
     "output_type": "stream",
     "text": [
      "c:\\Users\\DELL\\AppData\\Local\\Programs\\Python\\Python311\\Lib\\site-packages\\seaborn\\_oldcore.py:1119: FutureWarning: use_inf_as_na option is deprecated and will be removed in a future version. Convert inf values to NaN before operating instead.\n",
      "  with pd.option_context('mode.use_inf_as_na', True):\n"
     ]
    },
    {
     "data": {
      "image/png": "[encoded data removed]",
      "text/plain": [
       "<Figure size 400x400 with 1 Axes>"
      ]
     },
     "metadata": {},
     "output_type": "display_data"
    },
    {
     "name": "stdout",
     "output_type": "stream",
     "text": [
      "count    12.000000\n",
      "mean     25.000000\n",
      "std      15.075567\n",
      "min       5.000000\n",
      "25%      15.000000\n",
      "50%      25.000000\n",
      "75%      26.250000\n",
      "max      60.000000\n",
      "Name: DelayMinutes, dtype: float64\n"
     ]
    }
   ],
   "source": [
    "#Importing the necessary libraries for visualization\n",
    "import matplotlib.pyplot as plt\n",
    "import seaborn as sns\n",
    "\n",
    "#Plotting the distribution of delays\n",
    "plt.figure(figsize=(4,4))\n",
    "sns.histplot(df['DelayMinutes'], bins=10, kde=True, color='blue')\n",
    "plt.title('Distribution of flight Delays')\n",
    "plt.xlabel('Delay(in minutes)')\n",
    "plt.ylabel('Frequency')\n",
    "plt.show()\n",
    "\n",
    "#Basic statistics of delays\n",
    "delay_stats = df['DelayMinutes'].describe()\n",
    "print(delay_stats)"
   ]
  },
  {
   "cell_type": "markdown",
   "metadata": {},
   "source": [
    "B. Calculating the average delay for each airline"
   ]
  },
  {
   "cell_type": "code",
   "execution_count": 47,
   "metadata": {},
   "outputs": [
    {
     "name": "stdout",
     "output_type": "stream",
     "text": [
      "             Airline  DelayMinutes\n",
      "0  American Airlines         30.00\n",
      "1              Delta         16.25\n",
      "2    United Airlines         28.75\n"
     ]
    }
   ],
   "source": [
    "#Calculating average delay per airline\n",
    "average_delay_per_airline = df.groupby('Airline')['DelayMinutes'].mean().reset_index()\n",
    "\n",
    "#Displaying the results\n",
    "print(average_delay_per_airline)"
   ]
  },
  {
   "cell_type": "markdown",
   "metadata": {},
   "source": [
    "C. Identifying the relationships between flight delays and departure times"
   ]
  },
  {
   "cell_type": "code",
   "execution_count": 48,
   "metadata": {},
   "outputs": [
    {
     "data": {
      "text/html": [
       "<div>\n",
       "<style scoped>\n",
       "    .dataframe tbody tr th:only-of-type {\n",
       "        vertical-align: middle;\n",
       "    }\n",
       "\n",
       "    .dataframe tbody tr th {\n",
       "        vertical-align: top;\n",
       "    }\n",
       "\n",
       "    .dataframe thead th {\n",
       "        text-align: right;\n",
       "    }\n",
       "</style>\n",
       "<table border=\"1\" class=\"dataframe\">\n",
       "  <thead>\n",
       "    <tr style=\"text-align: right;\">\n",
       "      <th></th>\n",
       "      <th>DepartureTime</th>\n",
       "      <th>DepartureHour</th>\n",
       "      <th>ArrivalTime</th>\n",
       "      <th>ArrivalHour</th>\n",
       "    </tr>\n",
       "  </thead>\n",
       "  <tbody>\n",
       "    <tr>\n",
       "      <th>0</th>\n",
       "      <td>08:30:00</td>\n",
       "      <td>8.50</td>\n",
       "      <td>10:45:00</td>\n",
       "      <td>10.750000</td>\n",
       "    </tr>\n",
       "    <tr>\n",
       "      <th>1</th>\n",
       "      <td>13:15:00</td>\n",
       "      <td>13.25</td>\n",
       "      <td>15:30:00</td>\n",
       "      <td>15.500000</td>\n",
       "    </tr>\n",
       "    <tr>\n",
       "      <th>2</th>\n",
       "      <td>17:00:00</td>\n",
       "      <td>17.00</td>\n",
       "      <td>19:15:00</td>\n",
       "      <td>19.250000</td>\n",
       "    </tr>\n",
       "    <tr>\n",
       "      <th>3</th>\n",
       "      <td>08:30:00</td>\n",
       "      <td>8.50</td>\n",
       "      <td>22:45:00</td>\n",
       "      <td>22.750000</td>\n",
       "    </tr>\n",
       "    <tr>\n",
       "      <th>4</th>\n",
       "      <td>14:00:00</td>\n",
       "      <td>14.00</td>\n",
       "      <td>16:10:00</td>\n",
       "      <td>16.166667</td>\n",
       "    </tr>\n",
       "    <tr>\n",
       "      <th>5</th>\n",
       "      <td>17:00:00</td>\n",
       "      <td>17.00</td>\n",
       "      <td>19:15:00</td>\n",
       "      <td>19.250000</td>\n",
       "    </tr>\n",
       "    <tr>\n",
       "      <th>6</th>\n",
       "      <td>20:30:00</td>\n",
       "      <td>20.50</td>\n",
       "      <td>10:45:00</td>\n",
       "      <td>10.750000</td>\n",
       "    </tr>\n",
       "    <tr>\n",
       "      <th>7</th>\n",
       "      <td>13:00:00</td>\n",
       "      <td>13.00</td>\n",
       "      <td>15:30:00</td>\n",
       "      <td>15.500000</td>\n",
       "    </tr>\n",
       "    <tr>\n",
       "      <th>8</th>\n",
       "      <td>15:00:00</td>\n",
       "      <td>15.00</td>\n",
       "      <td>17:20:00</td>\n",
       "      <td>17.333333</td>\n",
       "    </tr>\n",
       "    <tr>\n",
       "      <th>9</th>\n",
       "      <td>08:30:00</td>\n",
       "      <td>8.50</td>\n",
       "      <td>10:00:00</td>\n",
       "      <td>10.000000</td>\n",
       "    </tr>\n",
       "    <tr>\n",
       "      <th>10</th>\n",
       "      <td>12:30:00</td>\n",
       "      <td>12.50</td>\n",
       "      <td>14:40:00</td>\n",
       "      <td>14.666667</td>\n",
       "    </tr>\n",
       "    <tr>\n",
       "      <th>11</th>\n",
       "      <td>19:00:00</td>\n",
       "      <td>19.00</td>\n",
       "      <td>21:15:00</td>\n",
       "      <td>21.250000</td>\n",
       "    </tr>\n",
       "  </tbody>\n",
       "</table>\n",
       "</div>"
      ],
      "text/plain": [
       "   DepartureTime  DepartureHour ArrivalTime  ArrivalHour\n",
       "0       08:30:00           8.50    10:45:00    10.750000\n",
       "1       13:15:00          13.25    15:30:00    15.500000\n",
       "2       17:00:00          17.00    19:15:00    19.250000\n",
       "3       08:30:00           8.50    22:45:00    22.750000\n",
       "4       14:00:00          14.00    16:10:00    16.166667\n",
       "5       17:00:00          17.00    19:15:00    19.250000\n",
       "6       20:30:00          20.50    10:45:00    10.750000\n",
       "7       13:00:00          13.00    15:30:00    15.500000\n",
       "8       15:00:00          15.00    17:20:00    17.333333\n",
       "9       08:30:00           8.50    10:00:00    10.000000\n",
       "10      12:30:00          12.50    14:40:00    14.666667\n",
       "11      19:00:00          19.00    21:15:00    21.250000"
      ]
     },
     "execution_count": 48,
     "metadata": {},
     "output_type": "execute_result"
    }
   ],
   "source": [
    "#Converting DepartureTime and ArrivalTime to 24-hour format, including seconds\n",
    "df['DepartureHour'] = pd.to_datetime(df['DepartureTime'], format='%H:%M:%S').dt.hour + pd.to_datetime(df['DepartureTime'], format='%H:%M:%S').dt.minute / 60\n",
    "df['ArrivalHour'] = pd.to_datetime(df['ArrivalTime'], format='%H:%M:%S').dt.hour + pd.to_datetime(df['ArrivalTime'], format='%H:%M:%S').dt.minute / 60\n",
    "\n",
    "#Displaying the converted columns\n",
    "df[['DepartureTime', 'DepartureHour', 'ArrivalTime', 'ArrivalHour']]"
   ]
  },
  {
   "cell_type": "code",
   "execution_count": 49,
   "metadata": {},
   "outputs": [
    {
     "data": {
      "image/png": "[encoded data removed]",
      "text/plain": [
       "<Figure size 400x400 with 1 Axes>"
      ]
     },
     "metadata": {},
     "output_type": "display_data"
    },
    {
     "name": "stdout",
     "output_type": "stream",
     "text": [
      "Correlation between Departure Time and Delays: 0.6323552529637301\n"
     ]
    }
   ],
   "source": [
    "#Scatter plot to visualize the relationship between departure time and delay\n",
    "plt.figure(figsize=(4,4))\n",
    "sns.scatterplot(x='DepartureHour', y='DelayMinutes', data=df)\n",
    "plt.title('Flight delay vs. Departure time')\n",
    "plt.xlabel('Departure Time(hours)')\n",
    "plt.ylabel('Delay(minutes)')\n",
    "plt.show()\n",
    "\n",
    "#Calculating the correlation between departure time and delays\n",
    "correlation = df['DepartureHour'].corr(df['DelayMinutes'])\n",
    "print(f\"Correlation between Departure Time and Delays: {correlation}\")"
   ]
  },
  {
   "cell_type": "markdown",
   "metadata": {},
   "source": [
    "The correlation between departure time and delays is 0.63. This indicates a positive relationship. This indicates that flights departing later in the day tend to experience longer delays.\n",
    "\n",
    "It may be because of the dark sky and tired staff."
   ]
  },
  {
   "cell_type": "markdown",
   "metadata": {},
   "source": [
    "D. Determining if there is a significant difference in delays between different airlines"
   ]
  },
  {
   "cell_type": "code",
   "execution_count": 51,
   "metadata": {},
   "outputs": [
    {
     "data": {
      "image/png": "[encoded data removed]",
      "text/plain": [
       "<Figure size 400x400 with 1 Axes>"
      ]
     },
     "metadata": {},
     "output_type": "display_data"
    },
    {
     "name": "stdout",
     "output_type": "stream",
     "text": [
      "ANOVA result: 0.39829902136169376\n"
     ]
    }
   ],
   "source": [
    "#Creating a Box plot to compare delays between airlines\n",
    "plt.figure(figsize=(4,4))\n",
    "sns.boxplot(x='Airline', y='DelayMinutes', data=df)\n",
    "plt.title('Comparison of Delays Between Airlines')\n",
    "plt.xlabel('Airline')\n",
    "plt.ylabel('Delay (Minutes)')\n",
    "plt.show()\n",
    "\n",
    "#Anova test to see if delays differ significantly between airlines\n",
    "import scipy.stats as stats\n",
    "anova_result = stats.f_oneway(\n",
    "    df[df['Airline'] == 'American Airlines']['DelayMinutes'],\n",
    "    df[df['Airline'] == 'Delta']['DelayMinutes'],\n",
    "    df[df['Airline'] == 'United Airlines']['DelayMinutes']\n",
    ")\n",
    "\n",
    "print(f\"ANOVA result: {anova_result.pvalue}\")"
   ]
  },
  {
   "cell_type": "markdown",
   "metadata": {},
   "source": [
    "The Anova(analysis of variance) test result indicates the p-value of 0.398. This p-value is significantly higher than the common alpha level of 0.05. It suggests that there is no statistical significant difference in the delays experienced by the airlines."
   ]
  },
  {
   "cell_type": "markdown",
   "metadata": {},
   "source": [
    "INSIGHTS:\n",
    "\n",
    "A. Summary of the key findings -\n",
    "\n",
    "1. Delay trends: The data reveals that flight delays are present across all airlines, but have different magnitudes.\n",
    "\n",
    "2. Airline performance: The average delays for each airline indicates that while some airlines have slightly higher delays, the differences were not very significant.\n",
    "\n",
    "3. Departure times: Flights departing later in the day were generally observed to have longer delays, suggesting a correlation between time of day and punctuality of the flight."
   ]
  },
  {
   "cell_type": "markdown",
   "metadata": {},
   "source": [
    "B. Impact of departure times on delays -\n",
    "\n",
    "The analysis of the data showed that flights departing in the evening tend to have higher delay period. This trend might be influenced by increased air traffic during the peak hours and also the compounding effect of previous delays."
   ]
  },
  {
   "cell_type": "markdown",
   "metadata": {},
   "source": [
    "C. Comparison of delay distributions between airlines -\n",
    "\n",
    "Delay distributions: The box plot analysis indicates that there were variations in delay distributions among the three airlines. But, the overall delay distribution is very similar. Except, some extreme delays noted for certain flights.\n",
    "\n",
    "Outlier: Certain flights had significant delays, which can be due to factors like bad weather conditions, operational issues, high passenger volumes, or some other issue."
   ]
  },
  {
   "cell_type": "markdown",
   "metadata": {},
   "source": [
    "D. Visualizing the average delay by airline and the delay distribution using appropriate charts -"
   ]
  },
  {
   "cell_type": "markdown",
   "metadata": {},
   "source": [
    "Bar Chart for Average Delay by Airline:"
   ]
  },
  {
   "cell_type": "code",
   "execution_count": 73,
   "metadata": {},
   "outputs": [
    {
     "data": {
      "image/png": "[encoded data removed]",
      "text/plain": [
       "<Figure size 500x400 with 1 Axes>"
      ]
     },
     "metadata": {},
     "output_type": "display_data"
    }
   ],
   "source": [
    "#Calculating average delay for each airline\n",
    "df_average_delay = df.groupby('Airline')['DelayMinutes'].mean().reset_index()\n",
    "df_average_delay.columns = ['Airline', 'AverageDelay']\n",
    "\n",
    "#Bar chart for average delay by airline\n",
    "plt.figure(figsize=(5,4))\n",
    "sns.barplot(x='Airline', y='AverageDelay', data=df_average_delay, palette='viridis')\n",
    "plt.title('Average Delay by Airline', fontsize=14)\n",
    "plt.xlabel('Airline', fontsize=10)\n",
    "plt.ylabel('Average Delay (Minutes)', fontsize=10)\n",
    "plt.xticks(rotation=45)\n",
    "plt.tight_layout()\n",
    "plt.show()"
   ]
  },
  {
   "cell_type": "markdown",
   "metadata": {},
   "source": [
    "Histogram for Delay Distribution:"
   ]
  },
  {
   "cell_type": "code",
   "execution_count": 76,
   "metadata": {},
   "outputs": [
    {
     "name": "stderr",
     "output_type": "stream",
     "text": [
      "c:\\Users\\DELL\\AppData\\Local\\Programs\\Python\\Python311\\Lib\\site-packages\\seaborn\\_oldcore.py:1119: FutureWarning: use_inf_as_na option is deprecated and will be removed in a future version. Convert inf values to NaN before operating instead.\n",
      "  with pd.option_context('mode.use_inf_as_na', True):\n"
     ]
    },
    {
     "data": {
      "image/png": "[encoded data removed]",
      "text/plain": [
       "<Figure size 500x400 with 1 Axes>"
      ]
     },
     "metadata": {},
     "output_type": "display_data"
    }
   ],
   "source": [
    "# Histogram for delay distribution\n",
    "plt.figure(figsize=(5,4))\n",
    "sns.histplot(df['DelayMinutes'], bins=10, kde=True, color='blue')\n",
    "plt.title('Delay Distribution', fontsize=16)\n",
    "plt.xlabel('Delay (Minutes)', fontsize=12)\n",
    "plt.ylabel('Frequency', fontsize=12)\n",
    "plt.show()"
   ]
  },
  {
   "cell_type": "markdown",
   "metadata": {},
   "source": [
    "Recommendations based on the analysis, such as suggestions for airlines to improve their punctuality -\n",
    "\n",
    "1. Improve scheduling: Airlines should analyze their scheduling method to know the cause of delays and try to minimize it. Being extra cautious and ready for peak hours's traffic. Adjusting the flight schedules to avoid crowded time may lead to improved punctuality.\n",
    "\n",
    "2. Operational efficiency: Enhancing operational efficiency while boarding and handling luggage could help reduce delays.\n",
    "\n",
    "3. Weather monitoring: We should have a robust systems in place for monitoring weather changes to proactively manage potential delays due to bad weather conditions.\n",
    "\n",
    "4. Communication with passengers: We must keep passengers informed about potential delays and provide them the updates. This can improve customer satisfaction, even if there is some delay."
   ]
  },
  {
   "cell_type": "code",
   "execution_count": 79,
   "metadata": {},
   "outputs": [],
   "source": [
    "#Saving the final dataFrame to a new CSV file\n",
    "df.to_csv('final_dataset.csv', index=False)"
   ]
  }
 ],
 "metadata": {
  "kernelspec": {
   "display_name": "Python 3",
   "language": "python",
   "name": "python3"
  },
  "language_info": {
   "codemirror_mode": {
    "name": "ipython",
    "version": 3
   },
   "file_extension": ".py",
   "mimetype": "text/x-python",
   "name": "python",
   "nbconvert_exporter": "python",
   "pygments_lexer": "ipython3",
   "version": "3.11.5"
  }
 },
 "nbformat": 4,
 "nbformat_minor": 2
}
